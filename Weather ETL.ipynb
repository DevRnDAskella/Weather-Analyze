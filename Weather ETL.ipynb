{
 "cells": [
  {
   "cell_type": "markdown",
   "metadata": {},
   "source": [
    "## Imports"
   ]
  },
  {
   "cell_type": "code",
   "execution_count": null,
   "metadata": {},
   "outputs": [],
   "source": [
    "import pandas as pd\n",
    "from datetime import datetime\n",
    "from service import clean_content, get_content, split_content_by_type_weather, transform_metar_file, combine_csv_files_with_metar, get_engine\n",
    "import os"
   ]
  },
  {
   "cell_type": "markdown",
   "metadata": {},
   "source": [
    "## Request Data"
   ]
  },
  {
   "cell_type": "code",
   "execution_count": null,
   "metadata": {},
   "outputs": [],
   "source": [
    "# Variables\n",
    "\n",
    "airport = 'UGSB'\n",
    "from_year = 2020\n",
    "to_year = datetime.now().year"
   ]
  },
  {
   "cell_type": "code",
   "execution_count": null,
   "metadata": {},
   "outputs": [],
   "source": [
    "content = get_content(airport=airport, from_year=from_year)\n",
    "\n",
    "cleaned_content = clean_content(content)\n",
    "\n",
    "data = split_content_by_type_weather(cleaned_content)"
   ]
  },
  {
   "cell_type": "code",
   "execution_count": null,
   "metadata": {},
   "outputs": [],
   "source": [
    "metar = pd.DataFrame(data.get('METAR', []), columns=['metar'])\n",
    "taf = pd.DataFrame(data.get('TAF', []), columns=['taf'])"
   ]
  },
  {
   "cell_type": "code",
   "execution_count": null,
   "metadata": {},
   "outputs": [],
   "source": [
    "metar.head()"
   ]
  },
  {
   "cell_type": "code",
   "execution_count": null,
   "metadata": {},
   "outputs": [],
   "source": [
    "taf.head()"
   ]
  },
  {
   "cell_type": "code",
   "execution_count": null,
   "metadata": {},
   "outputs": [],
   "source": [
    "metar.to_csv(f'./src/{airport}_metar_{from_year}_{to_year}.csv', index=False)\n",
    "\n",
    "taf.to_csv(f'./src/{airport}_taf_{from_year}_{to_year}.csv', index=False)"
   ]
  },
  {
   "cell_type": "markdown",
   "metadata": {},
   "source": [
    "## Prepare Data"
   ]
  },
  {
   "cell_type": "code",
   "execution_count": null,
   "metadata": {},
   "outputs": [],
   "source": [
    "folder_path = 'src'\n",
    "folder_to_save = './datasets/'\n",
    "\n",
    "columns_to_save = ['datetime', 'airport', 'wind_direct', 'wind_power',\n",
    "                   'wind_gust', 'wind_uom', 'wind_variable', 'temp', 'dew_point', 'metar']\n",
    "\n",
    "metar_files = [os.path.join(folder_path, file) for file in os.listdir(\n",
    "    folder_path) if 'metar' in file.lower() and file.endswith('.csv')]\n",
    "taf_files = [os.path.join(folder_path, file) for file in os.listdir(\n",
    "    folder_path) if 'taf' in file.lower() and file.endswith('.csv')]\n",
    "\n",
    "\n",
    "for metar_file in metar_files:\n",
    "    df_metar = transform_metar_file(metar_file)\n",
    "    df_metar.to_csv(\n",
    "        f'{os.path.join(folder_to_save, os.path.basename(metar_file))}', index=False)"
   ]
  },
  {
   "cell_type": "markdown",
   "metadata": {},
   "source": [
    "## Upload to Database"
   ]
  },
  {
   "cell_type": "code",
   "execution_count": null,
   "metadata": {},
   "outputs": [],
   "source": [
    "folder = './datasets/'\n",
    "df = combine_csv_files_with_metar(folder).drop_duplicates()"
   ]
  },
  {
   "cell_type": "code",
   "execution_count": null,
   "metadata": {},
   "outputs": [],
   "source": [
    "engine = get_engine('weather')\n",
    "\n",
    "df.to_sql('metar', engine, if_exists='replace', index=False)"
   ]
  }
 ],
 "metadata": {
  "language_info": {
   "name": "python"
  }
 },
 "nbformat": 4,
 "nbformat_minor": 2
}
